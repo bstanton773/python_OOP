{
 "cells": [
  {
   "cell_type": "code",
   "execution_count": 2,
   "metadata": {},
   "outputs": [
    {
     "name": "stdout",
     "output_type": "stream",
     "text": [
      "That is not a valid response. Please input an integer between 1-12\n",
      "What month (as a number) were you born? 2\n"
     ]
    },
    {
     "data": {
      "text/plain": [
       "'Amethyst'"
      ]
     },
     "execution_count": 2,
     "metadata": {},
     "output_type": "execute_result"
    }
   ],
   "source": [
    "from IPython.display import clear_output\n",
    "\n",
    "def birthmonth():\n",
    "    stones={\n",
    "        1:\"Garnet\",\n",
    "        2:\"Amethyst\",\n",
    "        3:\"Aquamarine\",\n",
    "        4:\"Diamond\",\n",
    "        5:\"Emerald\",\n",
    "        6:\"Pearl\",\n",
    "        7:\"Ruby\",\n",
    "        8:\"Peridot\",\n",
    "        9:\"Sapphire\",\n",
    "        10:\"Opal\",\n",
    "        11:\"Topaz\",\n",
    "        12:\"Turquoise\"\n",
    "    }\n",
    "    while True:\n",
    "        user_month = int(input(\"What month (as a number) were you born? \"))\n",
    "        if user_month > 12 or user_month < 1:\n",
    "            clear_output()\n",
    "            print(\"That is not a valid response. Please input an integer between 1-12\")\n",
    "            continue\n",
    "        return stones[user_month]\n",
    "    \n",
    "birthmonth()"
   ]
  },
  {
   "cell_type": "code",
   "execution_count": null,
   "metadata": {},
   "outputs": [],
   "source": []
  }
 ],
 "metadata": {
  "kernelspec": {
   "display_name": "Python 3",
   "language": "python",
   "name": "python3"
  },
  "language_info": {
   "codemirror_mode": {
    "name": "ipython",
    "version": 3
   },
   "file_extension": ".py",
   "mimetype": "text/x-python",
   "name": "python",
   "nbconvert_exporter": "python",
   "pygments_lexer": "ipython3",
   "version": "3.8.5"
  }
 },
 "nbformat": 4,
 "nbformat_minor": 4
}
